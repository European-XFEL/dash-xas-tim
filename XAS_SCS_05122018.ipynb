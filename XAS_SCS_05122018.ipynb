{
 "cells": [
  {
   "cell_type": "markdown",
   "metadata": {
    "collapsed": true
   },
   "source": [
    "# X-ray Absorption Spectroscopy (XAS) Experiment at SCS\n",
    "\n",
    "Author: Jun Zhu jun.zhu@xfel.eu\n",
    "\n",
    "Created on Nov. 12, 2018\n",
    "\n",
    "Copyright (C) European X-Ray Free-Electron Laser Facility GmbH.\n",
    "\n",
    "All rights reserved."
   ]
  },
  {
   "cell_type": "markdown",
   "metadata": {},
   "source": [
    "## Introduction\n",
    "\n",
    "<table><tr>\n",
    "    <td>\n",
    "        <img src='misc/mono.png' width=\"600 px\">\n",
    "        <figcaption>Higley et al., Rev. Sci. Instrum.  87, 033110 (2016)</figcaption>\n",
    "    </td>\n",
    "    <td>\n",
    "        <img src='misc/illustration.png' width=\"920 px\">\n",
    "    </td>\n",
    "    <td>\n",
    "        <img src='misc/expected_data.png' width=\"800 px\">\n",
    "        <figcaption>Higley et al., submitted</figcaption></td>\n",
    "</tr></table>"
   ]
  },
  {
   "cell_type": "markdown",
   "metadata": {},
   "source": [
    "## Data Analysis"
   ]
  },
  {
   "cell_type": "code",
   "execution_count": null,
   "metadata": {
    "collapsed": true
   },
   "outputs": [],
   "source": [
    "import os\n",
    "import numpy as np\n",
    "import pandas as pd\n",
    "import matplotlib.pyplot as plt\n",
    "%matplotlib inline\n",
    "\n",
    "from karabo_data import RunDirectory\n",
    "\n",
    "from xas_processor import XasFastADC"
   ]
  },
  {
   "cell_type": "code",
   "execution_count": null,
   "metadata": {
    "collapsed": true
   },
   "outputs": [],
   "source": [
    "plt.rcParams['axes.labelsize'] = 16\n",
    "plt.rcParams['axes.titlesize'] = 14\n",
    "plt.rcParams['xtick.labelsize'] = 14\n",
    "plt.rcParams['ytick.labelsize'] = 14\n",
    "plt.rcParams['legend.fontsize'] = 14\n",
    "plt.rcParams['figure.figsize'] = (8.0, 6.0)"
   ]
  },
  {
   "cell_type": "code",
   "execution_count": null,
   "metadata": {
    "scrolled": true
   },
   "outputs": [],
   "source": [
    "!ls /gpfs/exfel/exp/SCS/201831/p900048/raw"
   ]
  },
  {
   "cell_type": "code",
   "execution_count": null,
   "metadata": {},
   "outputs": [],
   "source": [
    "run_folder = \"/gpfs/exfel/exp/SCS/201831/p900048/raw/r0150\"\n",
    "run = RunDirectory(run_folder)\n",
    "run.info()"
   ]
  },
  {
   "cell_type": "code",
   "execution_count": null,
   "metadata": {
    "collapsed": true
   },
   "outputs": [],
   "source": [
    "xgm_device = 'SCS_BLU_XGM/XGM/DOOCS'\n",
    "\n",
    "adc_device = 'SCS_UTC1_MCP/ADC/1'\n",
    "adc_channel_names = [\"MCP1\", \"MCP2\", \"MCP3\", \"MCP4\"]\n",
    "adc_channels = {name: \"{}:channel_{}.output\".format(adc_device, ch) \n",
    "                for name, ch in zip(adc_channel_names, [9, 8, 7, 6])}"
   ]
  },
  {
   "cell_type": "markdown",
   "metadata": {},
   "source": [
    "## Sanity check"
   ]
  },
  {
   "cell_type": "markdown",
   "metadata": {},
   "source": [
    "*check whether the pulse energy in the pipeline data is calibrated*"
   ]
  },
  {
   "cell_type": "code",
   "execution_count": null,
   "metadata": {
    "collapsed": true
   },
   "outputs": [],
   "source": [
    "idx = -1\n",
    "tid, data = run.train_from_index(idx)"
   ]
  },
  {
   "cell_type": "code",
   "execution_count": null,
   "metadata": {
    "collapsed": true
   },
   "outputs": [],
   "source": [
    "xgm_run = run.get_dataframe(fields=[(xgm_device, '*value')])\n",
    "xgm_run.rename(columns=lambda x: x.split('/')[-1], inplace=True)\n",
    "\n",
    "# pulse_energy_train_resolved = xgm_run['pulseEnergy.photonFlux'].iloc[idx]\n",
    "# pulse_energy_pulse_resolved = data[xgm_device + ':output']['data.intensityTD'][\n",
    "#     0:int(xgm_run['pulseEnergy.nummberOfBrunches'].iloc[idx])].mean()\n",
    "\n",
    "# print(\"Train resolved pulse energy is: {:.4f} micro J\".format(pulse_energy_train_resolved))\n",
    "# print(\"Pulse resolved pulse energy is: {:.4f} micro J\".format(pulse_energy_pulse_resolved))\n",
    "# if abs(pulse_energy_train_resolved - pulse_energy_pulse_resolved) > 0.01*pulse_energy_train_resolved:\n",
    "#     print(\"Warning: pulse resolved pulse energy is not calibrated!\")"
   ]
  },
  {
   "cell_type": "markdown",
   "metadata": {},
   "source": [
    "***check the numbers of pulses and train resolved pulse energies throughtout the run***"
   ]
  },
  {
   "cell_type": "code",
   "execution_count": null,
   "metadata": {},
   "outputs": [],
   "source": [
    "_, ax = plt.subplots(figsize=(12, 4.5))\n",
    "ax2 = ax.twinx()\n",
    "\n",
    "ln1 = ax.plot(xgm_run['pulseEnergy.nummberOfBrunches'], label=\"number of pulses\", c='g')\n",
    "ln2 = ax2.plot(xgm_run['pulseEnergy.photonFlux'], label=r\"pulse energy ($\\mu$J)\")\n",
    "\n",
    "lns = ln1 + ln2\n",
    "lables = [l.get_label() for l in lns]\n",
    "ax.legend(lns, lables, loc=0)\n",
    "ax.set_xlabel(\"Train ID\")\n",
    "ax.set_ylabel(\"Number of pulses\")\n",
    "ax2.set_ylabel(r\"Pulse energy ($\\mu$J)\")\n",
    "\n",
    "plt.tight_layout()"
   ]
  },
  {
   "cell_type": "markdown",
   "metadata": {},
   "source": [
    "***check that the interested FastAdc channels all have data***"
   ]
  },
  {
   "cell_type": "code",
   "execution_count": null,
   "metadata": {},
   "outputs": [],
   "source": [
    "fig, axes = plt.subplots(len(adc_channels), 1, figsize=(14, 4.5*len(adc_channels)))\n",
    "\n",
    "for ax, channel in zip(axes, adc_channels):\n",
    "    channel_data = data[adc_channels[channel]]\n",
    "    ax.plot(channel_data['data.rawData'] - channel_data['data.baseline'])\n",
    "    ax.set_title(channel)\n",
    "    ax.set_ylabel(\"intensity (arb.)\")\n",
    "\n",
    "ax.set_xlabel(\"samples\")\n",
    "\n",
    "print(\"Trigger time: {}\".format(data[adc_device]['triggerTime.value']))\n",
    "print(\"Delay: {}\".format(data[adc_device]['delay.value']))"
   ]
  },
  {
   "cell_type": "markdown",
   "metadata": {},
   "source": [
    "## Correlation between I0 and I1"
   ]
  },
  {
   "cell_type": "code",
   "execution_count": null,
   "metadata": {
    "collapsed": true
   },
   "outputs": [],
   "source": [
    "run_energies = {\n",
    "     95:704.5,  96:705  ,  97:705.5,  98:706  ,  99:706.5, 100:707  , 101:707.5, 102:708  , \n",
    "    103:708.5, 104:709  , 105:709.5, 106:710  , 107:710.5, 108:711  , 109:711.5, 110:712  ,\n",
    "    111:712.5, 112:713  , 113:713.5, 114:714  , 115:714.5, 116:715  , 117:715.5, 118:716  ,\n",
    "    119:697  , 120:697.5, 121:698  , 122:698.5, 123:699  , 124:699.5, 125:700  , 126:700.5, \n",
    "    127:701  , 128:701.5, 129:702  , 130:702.5, 131:703  , 132:703.5, 133:704  , 134:704.5, \n",
    "    135:705  , 136:706  , 137:706.5, 138:707  , 139:707.5, 140:708  , 141:708.5, 142:709  , \n",
    "    143:709.5, 144:710  , 145:710.5, 146:711}"
   ]
  },
  {
   "cell_type": "code",
   "execution_count": null,
   "metadata": {},
   "outputs": [],
   "source": [
    "xas = XasFastADC(xgm_id=xgm_device, adc_id=adc_device, adc_channels=adc_channels)\n",
    "\n",
    "run_folder = \"/gpfs/exfel/exp/SCS/201831/p900048/raw/r0098\"\n",
    "xas.process_run(run_folder)\n",
    "corrs = []\n",
    "for name in adc_channel_names:\n",
    "    # 'XasFastADC.correlation()' returns a panda.DataFrame object\n",
    "    corrs.append(xas.correlation(name))\n",
    "\n",
    "corrs[0].head()"
   ]
  },
  {
   "cell_type": "code",
   "execution_count": null,
   "metadata": {},
   "outputs": [],
   "source": [
    "fig, axes = plt.subplots(2, 2, figsize=(12, 8))\n",
    "\n",
    "for ax, corr, name in zip(np.ravel(axes), corrs, adc_channel_names):\n",
    "    corr.plot.scatter(x=\"XGM\", y=\"MCP\", ax=ax, alpha=0.05)\n",
    "\n",
    "    ax.set_xlabel(r\"$I_0$ ($\\mu$ J)\")\n",
    "    ax.set_ylabel(r\"$I_1$ (arb.)\")\n",
    "    ax.set_title(name)\n",
    "\n",
    "fig.suptitle(run_folder)\n",
    "plt.tight_layout(rect=[0, 0.03, 1, 0.95])"
   ]
  },
  {
   "cell_type": "markdown",
   "metadata": {},
   "source": [
    "## Absorption spectrum"
   ]
  },
  {
   "cell_type": "code",
   "execution_count": null,
   "metadata": {
    "collapsed": true
   },
   "outputs": [],
   "source": [
    "xas = XasFastADC(xgm_id=xgm_device, adc_id=adc_device, adc_channels=adc_channels)\n",
    "\n",
    "# Use case without softmono in SCS DAQ data\n",
    "for run_number, energy in run_energies.items():\n",
    "    xas.process_run(\"/gpfs/exfel/exp/SCS/201831/p900048/raw/r{:04d}\".format(run_number), photon_energy=energy)"
   ]
  },
  {
   "cell_type": "code",
   "execution_count": null,
   "metadata": {},
   "outputs": [],
   "source": [
    "# 'XasFastADC.spectrum()' returns a panda.DataFrame object\n",
    "spectrums = dict()\n",
    "for name in adc_channel_names:\n",
    "    spectrums[name] = xas.spectrum(name)\n",
    "\n",
    "spectrums[\"MCP1\"].head()"
   ]
  },
  {
   "cell_type": "code",
   "execution_count": null,
   "metadata": {},
   "outputs": [],
   "source": [
    "ax = spectrums[\"MCP1\"].plot.scatter(x=\"photon_energy\", y=\"weight\")\n",
    "ax.set_xlabel(\"Photon energy (ev)\")\n",
    "ax.set_ylabel(r\"Weight ($\\mu$J)\")"
   ]
  },
  {
   "cell_type": "code",
   "execution_count": null,
   "metadata": {},
   "outputs": [],
   "source": [
    "# plot the \"masked\" spectrum\n",
    "\n",
    "selected_channels = [\"MCP1\", \"MCP2\", \"MCP3\"]\n",
    "colors = ['r', 'g', 'b']\n",
    "\n",
    "fig, ax = plt.subplots(figsize=(8, 6))\n",
    "for name, color in zip(selected_channels, colors):\n",
    "    sp = spectrums[name]\n",
    "    # masked by applying a lower boundary to weight\n",
    "    sp[sp['weight'] > 300].plot.scatter(x=\"photon_energy\", y=\"absorption\", s=40, c=color, ax=ax)\n",
    "\n",
    "ax.set_xlabel(\"Photon energy (ev)\")\n",
    "ax.set_ylabel(\"absorption (arb.)\")  # -log(I1/I0)    \n",
    "ax.legend(selected_channels)"
   ]
  }
 ],
 "metadata": {
  "kernelspec": {
   "display_name": "Python [conda env:5.0]",
   "language": "python",
   "name": "conda-env-5.0-py"
  },
  "language_info": {
   "codemirror_mode": {
    "name": "ipython",
    "version": 3
   },
   "file_extension": ".py",
   "mimetype": "text/x-python",
   "name": "python",
   "nbconvert_exporter": "python",
   "pygments_lexer": "ipython3",
   "version": "3.6.4"
  }
 },
 "nbformat": 4,
 "nbformat_minor": 2
}
