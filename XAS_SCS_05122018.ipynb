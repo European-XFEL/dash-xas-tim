{
 "cells": [
  {
   "cell_type": "markdown",
   "metadata": {},
   "source": [
    "# X-ray Absorption Spectroscopy (XAS) Experiment at SCS\n",
    "\n",
    "Author: Jun Zhu jun.zhu@xfel.eu\n",
    "\n",
    "Created on Nov. 12, 2018\n",
    "\n",
    "Copyright (C) European X-Ray Free-Electron Laser Facility GmbH.\n",
    "\n",
    "All rights reserved."
   ]
  },
  {
   "cell_type": "markdown",
   "metadata": {},
   "source": [
    "![](misc/illustration.png)"
   ]
  },
  {
   "cell_type": "code",
   "execution_count": null,
   "metadata": {
    "collapsed": true
   },
   "outputs": [],
   "source": [
    "import os\n",
    "import numpy as np\n",
    "import pandas as pd\n",
    "%matplotlib notebook\n",
    "import matplotlib.pyplot as plt\n",
    "\n",
    "from xas_processor import XasDigitizer, compute_absorption\n",
    "\n",
    "%load_ext autoreload\n",
    "%autoreload 2"
   ]
  },
  {
   "cell_type": "code",
   "execution_count": null,
   "metadata": {
    "collapsed": true
   },
   "outputs": [],
   "source": [
    "plt.rcParams['font.size'] = 12"
   ]
  },
  {
   "cell_type": "code",
   "execution_count": null,
   "metadata": {
    "scrolled": true
   },
   "outputs": [],
   "source": [
    "!ls /gpfs/exfel/exp/SCS/201831/p900048/raw"
   ]
  },
  {
   "cell_type": "markdown",
   "metadata": {},
   "source": [
    "```py\n",
    "class XasDigitizer(XasProcessor):\n",
    "     def __init__(self, run_folder, channels=('D', 'B', 'C', 'A'), \n",
    "                  pulse_separation=880e-9, interleaved_mode=False):\n",
    "         \"\"\"Initialization.\n",
    "         \n",
    "         :param str run_folder: full path of the run folder.\n",
    "         :param tuple channels: names of AdqDigitizer channels which connects to MCP1 to MCP4.\n",
    "         :param float pulse_separation: pulse separation in a train, in s.\n",
    "         :param bool interleaved_mode: the resolution is improved by a factor of two \n",
    "             in the interleaved mode. Default = False.\n",
    "         \"\"\"\n",
    "```"
   ]
  },
  {
   "cell_type": "code",
   "execution_count": null,
   "metadata": {
    "scrolled": false
   },
   "outputs": [],
   "source": [
    "run_folder = \"/gpfs/exfel/exp/SCS/201831/p900048/raw/r0313\"\n",
    "\n",
    "# instantiate an `XasDigitizer` object\n",
    "xas = XasDigitizer(run_folder)\n",
    "xas.info()"
   ]
  },
  {
   "cell_type": "markdown",
   "metadata": {},
   "source": [
    "## Sanity check"
   ]
  },
  {
   "cell_type": "markdown",
   "metadata": {},
   "source": [
    "```py\n",
    "def plot_xgm_run(self, *, figsize=(8, 5.6)):\n",
    "    \"\"\"Plot the train resolved data from XGM.\n",
    "    \n",
    "    :param tuple figsize: figure size.\n",
    "    \"\"\"\n",
    "```"
   ]
  },
  {
   "cell_type": "code",
   "execution_count": null,
   "metadata": {},
   "outputs": [],
   "source": [
    "fig, (ax11, ax12, ax2) = xas.plot_xgm_run()"
   ]
  },
  {
   "cell_type": "markdown",
   "metadata": {},
   "source": [
    "why negative pulse energies?\n",
    "\n",
    "```py\n",
    "def plot_xgm_train(self, *, index=0, train_id=None, figsize=(8, 5.6)):\n",
    "    \"\"\"Plot xgm measurement in a given train.\n",
    "\n",
    "    :param int index: train index. Ignored if train_id is given.\n",
    "    :param int train_id: train ID.\n",
    "    :param tuple figsize: figure size.\n",
    "    \"\"\"\n",
    "```"
   ]
  },
  {
   "cell_type": "code",
   "execution_count": null,
   "metadata": {
    "scrolled": false
   },
   "outputs": [],
   "source": [
    "fig, ax = xas.plot_xgm_train(index=10)"
   ]
  },
  {
   "cell_type": "markdown",
   "metadata": {},
   "source": [
    "```py\n",
    "def plot_digitizer_train(self, *, index=0, train_id=None, figsize=(8, 11.2),\n",
    "                         x_min=None, x_max=None):\n",
    "    \"\"\"Plot digitizer signals in a given train.\n",
    "\n",
    "    :param int index: train index. Ignored if train_id is given.\n",
    "    :param int train_id: train ID.\n",
    "    :param tuple figsize: figure size.\n",
    "    :param int x_min: minimum sample ID.\n",
    "    :param int x_max: maximum sample ID.\n",
    "    \"\"\"\n",
    "```"
   ]
  },
  {
   "cell_type": "code",
   "execution_count": null,
   "metadata": {},
   "outputs": [],
   "source": [
    "fig, axes = xas.plot_digitizer_train(index=200, x_min=8000, x_max=60000)"
   ]
  },
  {
   "cell_type": "markdown",
   "metadata": {},
   "source": [
    "## Correlation between I0 and I1"
   ]
  },
  {
   "cell_type": "markdown",
   "metadata": {},
   "source": [
    "```py\n",
    "def process(self, pulse_id0, n_pulses, config=None):\n",
    "    \"\"\"Process the run data.\n",
    "\n",
    "    :param int pulse_id0: first pulse ID.\n",
    "    :param int n_pulses: number of pulses in a train.\n",
    "    :param dict config: configuration for integrating of digitizer signal.\n",
    "    \"\"\"\n",
    "```"
   ]
  },
  {
   "cell_type": "code",
   "execution_count": null,
   "metadata": {},
   "outputs": [],
   "source": [
    "import time\n",
    "\n",
    "t0 = time.time()\n",
    "\n",
    "cfg = {\"peak_start\": 14590, \"peak_width\": 30, \"background_end\": 14580, \"background_width\": 500}\n",
    "xas.process(30, 10, config=cfg)  # processing will take about 60 seconds for a 5-minute run\n",
    "\n",
    "print(\"Processing time: {:.1f} seconds\".format(time.time() - t0))"
   ]
  },
  {
   "cell_type": "markdown",
   "metadata": {},
   "source": [
    "```py\n",
    "@property\n",
    "def data(self):\n",
    "    \"\"\"Get the pulse-resolved data in pandas.DataFrame.\n",
    "   \n",
    "    The data is not filtered! The signs of signals in MCP channels are flipped.\n",
    "    \"\"\"\n",
    "```"
   ]
  },
  {
   "cell_type": "code",
   "execution_count": null,
   "metadata": {},
   "outputs": [],
   "source": [
    "xas.data.head()"
   ]
  },
  {
   "cell_type": "markdown",
   "metadata": {},
   "source": [
    "```py\n",
    "def compute_total_absorption(self):\n",
    "    \"\"\"Compute absorption for all data.\n",
    "\n",
    "    :return: total absorption dta in pandas.DataFrame with index being the \n",
    "        MCP channel name and columns being:\n",
    "        - muA: absorption mean;\n",
    "        - sigmaA: absorption standard deviation;\n",
    "        - muI0: I0 mean;\n",
    "        - sigmaI0: I0 standard deviation;\n",
    "        - weight: sum of I0 values;\n",
    "        - muI1: I1 mean;\n",
    "        - sigmaI1: I1 standard deviation;\n",
    "        - corr: correlation coefficient between I0 and I1;\n",
    "        - count: number of data.\n",
    "    \"\"\"\n",
    "```"
   ]
  },
  {
   "cell_type": "code",
   "execution_count": null,
   "metadata": {},
   "outputs": [],
   "source": [
    "# get absorption data as pandas.DataFrame\n",
    "total_absorption = xas.compute_total_absorption()\n",
    "\n",
    "total_absorption.head()"
   ]
  },
  {
   "cell_type": "markdown",
   "metadata": {},
   "source": [
    "```py\n",
    "def plot_correlation(self, channel=None, *, figsize=(8, 6), \n",
    "                     ms=6, alpha=0.05, n_bins=20):\n",
    "    \"\"\"Generate correlation plots.\n",
    "\n",
    "    :param str channel: MCP channel name, e.g. MCP1, for visualizing \n",
    "        a single channel with four plots, or None (default) for  \n",
    "        visualizing all the channels with one plot each.  \n",
    "        Case insensitive. \n",
    "    :param tuple figsize: figure size.\n",
    "    :param int ms: marker size for the scatter plots.\n",
    "    :param float alpha: transparency for the scatter plots.\n",
    "    :param int n_bins: number of bins for the histogram plots.\n",
    "    \"\"\"\n",
    "```"
   ]
  },
  {
   "cell_type": "code",
   "execution_count": null,
   "metadata": {},
   "outputs": [],
   "source": [
    "fig, ax = xas.plot_correlation()"
   ]
  },
  {
   "cell_type": "code",
   "execution_count": null,
   "metadata": {},
   "outputs": [],
   "source": [
    "fig, ax = xas.plot_correlation('mcp1')"
   ]
  },
  {
   "cell_type": "code",
   "execution_count": null,
   "metadata": {},
   "outputs": [],
   "source": [
    "fig, ax = xas.plot_correlation('mcp2')"
   ]
  },
  {
   "cell_type": "code",
   "execution_count": null,
   "metadata": {},
   "outputs": [],
   "source": [
    "fig, ax = xas.plot_correlation('mcp3')"
   ]
  },
  {
   "cell_type": "code",
   "execution_count": null,
   "metadata": {},
   "outputs": [],
   "source": [
    "fig, ax = xas.plot_correlation('mcp4')"
   ]
  },
  {
   "cell_type": "markdown",
   "metadata": {},
   "source": [
    "## Absorption spectrum"
   ]
  },
  {
   "cell_type": "markdown",
   "metadata": {},
   "source": [
    "```py\n",
    "def compute_spectrum(self, n_bins=20):\n",
    "    \"\"\"Calculate spectrum.\n",
    "\n",
    "    :param int n_bins: number of energy bins.\n",
    "\n",
    "    :return: spectrum data in pandas.DataFrame with index being the \n",
    "        energy bin range and columns being;\n",
    "        - energy: central energy of each bin;\n",
    "        - count: number of data points for each energy bin;\n",
    "        - muXGM, muMCP1, muMCP2, muMCP3: intensity mean;\n",
    "        - sigmaXGM, sigmaMCP1, sigmaMCP2, sigmaMCP3: standard deviation mean;\n",
    "        - muA1, muA2, muA3: absorption mean;\n",
    "        - sigmaA1, sigmaA2, sigmaA3: absorption standard deviation;\n",
    "        - corrMCP1, corrMCP2, corrMCP3: correlation between XGM and MCP.\n",
    "    \"\"\"\n",
    "```"
   ]
  },
  {
   "cell_type": "code",
   "execution_count": null,
   "metadata": {
    "scrolled": true
   },
   "outputs": [],
   "source": [
    "spectrum = xas.compute_spectrum()\n",
    "spectrum"
   ]
  },
  {
   "cell_type": "markdown",
   "metadata": {},
   "source": [
    "```py\n",
    "def plot_spectrum(self, channel=None, *, figsize=(6, 4.5), capsize=4, \n",
    "                  n_bins=20, use_transmission=False):\n",
    "    \"\"\"Generate spectrum plots.\n",
    "\n",
    "    :param str channel: MCP channel name, e.g. MCP1, for visualizing\n",
    "        a single channel, or None (default) for visualizing MCP1-3 \n",
    "        altogether. Case insensitive.\n",
    "    :param tuple figsize: figure size.\n",
    "    :param int capsize: cap size for the error bar.\n",
    "    :param int n_bins: number of energy bins.\n",
    "    :param bool use_transmission: False for plotting energy vs. \n",
    "        absorption, while True for plotting energy vs. I1. \n",
    "        Default = False\n",
    "    \"\"\"\n",
    "```"
   ]
  },
  {
   "cell_type": "code",
   "execution_count": null,
   "metadata": {},
   "outputs": [],
   "source": [
    "fig, ax = xas.plot_spectrum()"
   ]
  },
  {
   "cell_type": "code",
   "execution_count": null,
   "metadata": {},
   "outputs": [],
   "source": [
    "fig, ax = xas.plot_spectrum(use_transmission=True)"
   ]
  },
  {
   "cell_type": "code",
   "execution_count": null,
   "metadata": {},
   "outputs": [],
   "source": [
    "fig, ax = xas.plot_spectrum('mcp2')"
   ]
  },
  {
   "cell_type": "code",
   "execution_count": null,
   "metadata": {},
   "outputs": [],
   "source": [
    "fig, ax = xas.plot_spectrum('mcp2', use_transmission=True)"
   ]
  },
  {
   "cell_type": "code",
   "execution_count": null,
   "metadata": {
    "collapsed": true
   },
   "outputs": [],
   "source": []
  }
 ],
 "metadata": {
  "kernelspec": {
   "display_name": "Python [conda env:5.0]",
   "language": "python",
   "name": "conda-env-5.0-py"
  },
  "language_info": {
   "codemirror_mode": {
    "name": "ipython",
    "version": 3
   },
   "file_extension": ".py",
   "mimetype": "text/x-python",
   "name": "python",
   "nbconvert_exporter": "python",
   "pygments_lexer": "ipython3",
   "version": "3.6.4"
  }
 },
 "nbformat": 4,
 "nbformat_minor": 2
}
