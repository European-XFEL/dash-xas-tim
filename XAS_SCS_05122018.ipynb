{
 "cells": [
  {
   "cell_type": "markdown",
   "metadata": {
    "collapsed": true
   },
   "source": [
    "# X-ray Absorption Spectroscopy (XAS) Experiment at SCS\n",
    "\n",
    "Author: Jun Zhu jun.zhu@xfel.eu\n",
    "\n",
    "Created on Nov. 12, 2018\n",
    "\n",
    "Copyright (C) European X-Ray Free-Electron Laser Facility GmbH.\n",
    "\n",
    "All rights reserved."
   ]
  },
  {
   "cell_type": "markdown",
   "metadata": {},
   "source": [
    "## Introduction\n",
    "\n",
    "<table><tr>\n",
    "    <td>\n",
    "        <img src='misc/mono.png' width=\"600 px\">\n",
    "        <figcaption>Higley et al., Rev. Sci. Instrum.  87, 033110 (2016)</figcaption>\n",
    "    </td>\n",
    "    <td>\n",
    "        <img src='misc/illustration.png' width=\"920 px\">\n",
    "    </td>\n",
    "    <td>\n",
    "        <img src='misc/expected_data.png' width=\"800 px\">\n",
    "        <figcaption>Higley et al., submitted</figcaption></td>\n",
    "</tr></table>"
   ]
  },
  {
   "cell_type": "markdown",
   "metadata": {},
   "source": [
    "## Data Analysis"
   ]
  },
  {
   "cell_type": "code",
   "execution_count": null,
   "metadata": {},
   "outputs": [],
   "source": [
    "import os\n",
    "import numpy as np\n",
    "import pandas as pd\n",
    "%matplotlib notebook\n",
    "import matplotlib.pyplot as plt\n",
    "try:\n",
    "    # for interactive plot\n",
    "    from plotly.offline import init_notebook_mode, iplot\n",
    "    import plotly.graph_objs as go\n",
    "    init_notebook_mode(connected=True)\n",
    "    \n",
    "    USE_PLOTLY = True\n",
    "except ImportError:\n",
    "    USE_PLOTLY = False\n",
    "\n",
    "from xas_processor import XasDigitizer"
   ]
  },
  {
   "cell_type": "code",
   "execution_count": null,
   "metadata": {
    "scrolled": true
   },
   "outputs": [],
   "source": [
    "!ls /gpfs/exfel/exp/SCS/201831/p900048/raw"
   ]
  },
  {
   "cell_type": "code",
   "execution_count": null,
   "metadata": {
    "scrolled": false
   },
   "outputs": [],
   "source": [
    "run_folder = \"/gpfs/exfel/exp/SCS/201831/p900048/raw/r0313\"\n",
    "\n",
    "xas = XasDigitizer(run_folder, pulse_id_min=30, n_pulses=10)\n",
    "xas.info()"
   ]
  },
  {
   "cell_type": "code",
   "execution_count": null,
   "metadata": {},
   "outputs": [],
   "source": [
    "config = {\"sample_start\": 14590, \"peak_width\": 30, \"background_end\": 14580, \"background_width\": 500}\n",
    "xas.process(config)\n",
    "\n",
    "xas.correlation('mcp2').head()"
   ]
  },
  {
   "cell_type": "code",
   "execution_count": null,
   "metadata": {},
   "outputs": [],
   "source": [
    "%load_ext autoreload\n",
    "%autoreload 2\n",
    "fig, ax = xas.plot_correlation('mcp1', marker_size=6, alpha=0.05, n_bins=20)"
   ]
  },
  {
   "cell_type": "code",
   "execution_count": null,
   "metadata": {},
   "outputs": [],
   "source": [
    "raise ValueError"
   ]
  },
  {
   "cell_type": "markdown",
   "metadata": {},
   "source": [
    "## Sanity check"
   ]
  },
  {
   "cell_type": "markdown",
   "metadata": {},
   "source": [
    "***check train resolved parameters throughtout the run***\n",
    "\n",
    "```py\n",
    "def plot_xgm(self, *, figsize=(8, 7.2)):\n",
    "    \"\"\"Plot the train resolved data from XGM.\n",
    "    \n",
    "    :param tuple figsize: figure size.\n",
    "    \"\"\"\n",
    "```"
   ]
  },
  {
   "cell_type": "code",
   "execution_count": null,
   "metadata": {
    "collapsed": true
   },
   "outputs": [],
   "source": [
    "fig, (ax11, ax12, ax2) = xas.plot_xgm_run()"
   ]
  },
  {
   "cell_type": "markdown",
   "metadata": {},
   "source": [
    "***check pulse resolved XGM signals***\n",
    "\n",
    "why negative pulse energies?"
   ]
  },
  {
   "cell_type": "code",
   "execution_count": null,
   "metadata": {
    "collapsed": true,
    "scrolled": false
   },
   "outputs": [],
   "source": [
    "fig, ax = xas.plot_xgm_train(index=110)"
   ]
  },
  {
   "cell_type": "markdown",
   "metadata": {},
   "source": [
    "***check digitizer signals***"
   ]
  },
  {
   "cell_type": "code",
   "execution_count": null,
   "metadata": {
    "collapsed": true
   },
   "outputs": [],
   "source": [
    "fig, axes = xas.plot_digitizer_train(index=0, x_min=14000, x_max=38000)"
   ]
  },
  {
   "cell_type": "markdown",
   "metadata": {},
   "source": [
    "## Correlation between I0 and I1"
   ]
  },
  {
   "cell_type": "code",
   "execution_count": null,
   "metadata": {
    "collapsed": true
   },
   "outputs": [],
   "source": [
    "xas.process()\n",
    "corrs = []\n",
    "for name in adc_channel_names:\n",
    "    # 'XasFastADC.correlation()' returns a panda.DataFrame object\n",
    "    corrs.append(xas.correlation(name))\n",
    "\n",
    "corrs[0].head()"
   ]
  },
  {
   "cell_type": "code",
   "execution_count": null,
   "metadata": {
    "collapsed": true
   },
   "outputs": [],
   "source": [
    "fig, axes = plt.subplots(2, 2, figsize=(12, 8))\n",
    "\n",
    "for ax, corr, name in zip(np.ravel(axes), corrs, adc_channel_names):\n",
    "    corr.plot.scatter(x=\"XGM\", y=\"MCP\", ax=ax, alpha=0.05)\n",
    "\n",
    "    ax.set_xlabel(r\"$I_0$ ($\\mu$ J)\")\n",
    "    ax.set_ylabel(r\"$I_1$ (arb.)\")\n",
    "    ax.set_title(name)\n",
    "\n",
    "fig.suptitle(run_folder)\n",
    "plt.tight_layout(rect=[0, 0.03, 1, 0.95])"
   ]
  },
  {
   "cell_type": "markdown",
   "metadata": {},
   "source": [
    "## Absorption spectrum"
   ]
  },
  {
   "cell_type": "code",
   "execution_count": null,
   "metadata": {
    "collapsed": true
   },
   "outputs": [],
   "source": [
    "xas = XasFastADC(xgm_id=xgm_device, adc_id=adc_device, adc_channels=adc_channels)\n",
    "\n",
    "# Use case without softmono in SCS DAQ data\n",
    "for run_number, energy in run_energies.items():\n",
    "    xas.process_run(\"/gpfs/exfel/exp/SCS/201831/p900048/raw/r{:04d}\".format(run_number), photon_energy=energy)"
   ]
  },
  {
   "cell_type": "code",
   "execution_count": null,
   "metadata": {
    "collapsed": true
   },
   "outputs": [],
   "source": [
    "# 'XasFastADC.spectrum()' returns a panda.DataFrame object\n",
    "spectrums = dict()\n",
    "for name in adc_channel_names:\n",
    "    spectrums[name] = xas.spectrum(name)\n",
    "\n",
    "spectrums[\"MCP1\"].head()"
   ]
  },
  {
   "cell_type": "code",
   "execution_count": null,
   "metadata": {
    "collapsed": true
   },
   "outputs": [],
   "source": [
    "ax = spectrums[\"MCP1\"].plot.scatter(x=\"photon_energy\", y=\"weight\")\n",
    "ax.set_xlabel(\"Photon energy (ev)\")\n",
    "ax.set_ylabel(r\"Weight ($\\mu$J)\")"
   ]
  },
  {
   "cell_type": "code",
   "execution_count": null,
   "metadata": {
    "collapsed": true
   },
   "outputs": [],
   "source": [
    "# plot the \"masked\" spectrum\n",
    "\n",
    "selected_channels = [\"MCP1\", \"MCP2\", \"MCP3\"]\n",
    "colors = ['r', 'g', 'b']\n",
    "\n",
    "fig, ax = plt.subplots(figsize=(8, 6))\n",
    "for name, color in zip(selected_channels, colors):\n",
    "    sp = spectrums[name]\n",
    "    # masked by applying a lower boundary to weight\n",
    "    sp[sp['weight'] > 300].plot.scatter(x=\"photon_energy\", y=\"absorption\", s=40, c=color, ax=ax)\n",
    "\n",
    "ax.set_xlabel(\"Photon energy (ev)\")\n",
    "ax.set_ylabel(\"absorption (arb.)\")  # -log(I1/I0)    \n",
    "ax.legend(selected_channels)"
   ]
  }
 ],
 "metadata": {
  "kernelspec": {
   "display_name": "Python [conda env:5.0]",
   "language": "python",
   "name": "conda-env-5.0-py"
  },
  "language_info": {
   "codemirror_mode": {
    "name": "ipython",
    "version": 3
   },
   "file_extension": ".py",
   "mimetype": "text/x-python",
   "name": "python",
   "nbconvert_exporter": "python",
   "pygments_lexer": "ipython3",
   "version": "3.6.4"
  }
 },
 "nbformat": 4,
 "nbformat_minor": 2
}
