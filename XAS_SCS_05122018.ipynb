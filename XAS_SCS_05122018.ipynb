{
 "cells": [
  {
   "cell_type": "markdown",
   "metadata": {
    "collapsed": true
   },
   "source": [
    "# X-ray Absorption Spectroscopy (XAS) Experiment at SCS\n",
    "\n",
    "Author: Jun Zhu jun.zhu@xfel.eu\n",
    "\n",
    "Created on Nov. 12, 2018\n",
    "\n",
    "Copyright (C) European X-Ray Free-Electron Laser Facility GmbH.\n",
    "\n",
    "All rights reserved."
   ]
  },
  {
   "cell_type": "markdown",
   "metadata": {},
   "source": [
    "## Introduction\n",
    "\n",
    "<table><tr>\n",
    "    <td>\n",
    "        <img src='misc/mono.png' width=\"600 px\">\n",
    "        <figcaption>Higley et al., Rev. Sci. Instrum.  87, 033110 (2016)</figcaption>\n",
    "    </td>\n",
    "    <td>\n",
    "        <img src='misc/illustration.png' width=\"920 px\">\n",
    "    </td>\n",
    "    <td>\n",
    "        <img src='misc/expected_data.png' width=\"800 px\">\n",
    "        <figcaption>Higley et al., submitted</figcaption></td>\n",
    "</tr></table>"
   ]
  },
  {
   "cell_type": "markdown",
   "metadata": {},
   "source": [
    "## Data Analysis"
   ]
  },
  {
   "cell_type": "code",
   "execution_count": null,
   "metadata": {
    "collapsed": true
   },
   "outputs": [],
   "source": [
    "import os\n",
    "import numpy as np\n",
    "import pandas as pd\n",
    "import matplotlib.pyplot as plt\n",
    "%matplotlib inline\n",
    "\n",
    "from karabo_data import RunDirectory"
   ]
  },
  {
   "cell_type": "code",
   "execution_count": null,
   "metadata": {
    "collapsed": true
   },
   "outputs": [],
   "source": [
    "plt.rcParams['axes.labelsize'] = 16\n",
    "plt.rcParams['axes.titlesize'] = 14\n",
    "plt.rcParams['xtick.labelsize'] = 14\n",
    "plt.rcParams['ytick.labelsize'] = 14\n",
    "plt.rcParams['legend.fontsize'] = 14\n",
    "plt.rcParams['figure.figsize'] = (8.0, 6.0)"
   ]
  },
  {
   "cell_type": "code",
   "execution_count": null,
   "metadata": {
    "scrolled": true
   },
   "outputs": [],
   "source": [
    "!ls /gpfs/exfel/exp/SCS/201831/p900048/raw"
   ]
  },
  {
   "cell_type": "code",
   "execution_count": null,
   "metadata": {},
   "outputs": [],
   "source": [
    "run_folder = \"/gpfs/exfel/exp/SCS/201831/p900048/raw/r0095\"\n",
    "run = RunDirectory(run_folder)\n",
    "\n",
    "run.info()"
   ]
  },
  {
   "cell_type": "markdown",
   "metadata": {},
   "source": [
    "## Sanity check"
   ]
  },
  {
   "cell_type": "markdown",
   "metadata": {},
   "source": [
    "*check whether the pulse energy in the pipeline data is calibrated*"
   ]
  },
  {
   "cell_type": "code",
   "execution_count": null,
   "metadata": {
    "collapsed": true
   },
   "outputs": [],
   "source": [
    "xgm_device = 'SCS_BLU_XGM/XGM/DOOCS'\n",
    "# xgm_device = 'SA3_XTD10_XGM/XGM/DOOCS'"
   ]
  },
  {
   "cell_type": "code",
   "execution_count": null,
   "metadata": {},
   "outputs": [],
   "source": [
    "xgm_run = run.get_dataframe(fields=[(xgm_device, '*value')])\n",
    "xgm_run.rename(columns=lambda x: x.split('/')[-1], inplace=True)\n",
    "\n",
    "idx = 0\n",
    "tid, data = run.train_from_index(idx)\n",
    "pipeline_data = data[xgm_device + ':output']\n",
    "\n",
    "pulse_energy_train_resolved = xgm_run['pulseEnergy.photonFlux'].iloc[idx]\n",
    "pulse_energy_pulse_resolved = pipeline_data['data.intensityTD'][\n",
    "    0:int(xgm_run['pulseEnergy.nummberOfBrunches'].iloc[idx])].mean()\n",
    "\n",
    "print(\"Train resolved pulse energy is: {:.4f} micro J\".format(pulse_energy_train_resolved))\n",
    "print(\"Pulse resolved pulse energy is: {:.4f} micro J\".format(pulse_energy_pulse_resolved))\n",
    "if abs(pulse_energy_train_resolved - pulse_energy_pulse_resolved) > 0.01*pulse_energy_train_resolved:\n",
    "    print(\"Warning: pulse resolved pulse energy is not calibrated!\")"
   ]
  },
  {
   "cell_type": "markdown",
   "metadata": {},
   "source": [
    "*check the number of pulses and train resolved pulse energy throughtout the run*"
   ]
  },
  {
   "cell_type": "code",
   "execution_count": null,
   "metadata": {},
   "outputs": [],
   "source": [
    "# plot train resolved pulse energy and number of pulses in each train\n",
    "\n",
    "_, ax = plt.subplots(figsize=(12, 6))\n",
    "ax2 = ax.twinx()\n",
    "\n",
    "ln1 = ax.plot(xgm_run['pulseEnergy.nummberOfBrunches'], label=\"number of pulses\", c='g')\n",
    "ln2 = ax2.plot(xgm_run['pulseEnergy.photonFlux'], label=r\"pulse energy ($\\mu$J)\")\n",
    "\n",
    "lns = ln1 + ln2\n",
    "lables = [l.get_label() for l in lns]\n",
    "ax.legend(lns, lables, loc=4)\n",
    "ax.set_xlabel(\"Train ID\")\n",
    "ax.set_ylabel(\"Number of pulses\")\n",
    "ax2.set_ylabel(r\"Pulse energy ($\\mu$J)\")"
   ]
  },
  {
   "cell_type": "markdown",
   "metadata": {},
   "source": [
    "## Data analysis"
   ]
  },
  {
   "cell_type": "code",
   "execution_count": null,
   "metadata": {
    "collapsed": true
   },
   "outputs": [],
   "source": [
    "def MCPintegration(mcptrace, bkgstart, bkgend, intstart, intend):\n",
    "    \"\"\" Simple MCP trace peak integration\n",
    "    \"\"\"\n",
    "    bkg = np.median(mcptrace[bkgstart:bkgend])\n",
    "    return np.trapz(mcptrace[intstart:intend] - bkg)"
   ]
  },
  {
   "cell_type": "code",
   "execution_count": null,
   "metadata": {
    "collapsed": true
   },
   "outputs": [],
   "source": [
    "def loadrun(runNB, proposalNB, strangeNB, topic='SCS'):\n",
    "    \"\"\" Load a run and extract the data. Output is a rec array. \n",
    "    \"\"\"\n",
    "    runFolder = '/gpfs/exfel/exp/{}/{:d}/p{:d}/raw/r{:04d}/'.format(topic, strangeNB, proposalNB, runNB)\n",
    "    run = RunDirectory(runFolder)\n",
    "    #run.info()\n",
    "    \n",
    "    Nevts = len(run.train_ids)\n",
    "    \n",
    "    # return type of the structured array\n",
    "    names_list = ['train_id', 'mono_nrj', 'SCS_XGM', 'MCP1', 'MCP2', 'MCP3', 'MCP4']\n",
    "    \n",
    "    rundata = np.empty((Nevts, len(names_list)))\n",
    "    \n",
    "    for k,(tid, data) in enumerate(run.trains()):\n",
    "        if k == 1:\n",
    "           break\n",
    "\n",
    "        print(data['SCS_BLU_XGM/XGM/DOOCS:output']['data.intensityTD'])\n",
    "        \n",
    "        SCS_XGM = data['SCS_BLU_XGM/XGM/DOOCS:output']['data.intensityTD'][1]\n",
    "        MCP1 = MCPintegration(data['SCS_UTC1_MCP/ADC/1:channel_9.output']['data.rawData'],\n",
    "                             bkgstart, bkgend, intstart, intend)\n",
    "        MCP2 = MCPintegration(data['SCS_UTC1_MCP/ADC/1:channel_8.output']['data.rawData'],\n",
    "                             bkgstart, bkgend, intstart, intend)\n",
    "        MCP3 = MCPintegration(data['SCS_UTC1_MCP/ADC/1:channel_7.output']['data.rawData'],\n",
    "                             bkgstart, bkgend, intstart, intend)\n",
    "        MCP4 = MCPintegration(data['SCS_UTC1_MCP/ADC/1:channel_6.output']['data.rawData'],\n",
    "                             bkgstart, bkgend, intstart, intend)\n",
    "        nrj = nrjs[runNB]\n",
    "        \n",
    "        print(nrj, MCP1, SCS_XGM)\n",
    "        \n",
    "        rundata[k,:] = [tid, nrj, SCS_XGM, MCP1, MCP2, MCP3, MCP4]\n",
    "        k += 1\n",
    "        \n",
    "    return np.rec.fromarrays(rundata.T, names=names_list)"
   ]
  },
  {
   "cell_type": "code",
   "execution_count": null,
   "metadata": {
    "collapsed": true
   },
   "outputs": [],
   "source": [
    "bkgstart = 1000\n",
    "bkgend = 1500\n",
    "\n",
    "# narrow negative part integration\n",
    "intstart = 1584\n",
    "intend = 1594\n",
    "\n",
    "topic = 'SCS'\n",
    "strange = 201831\n",
    "proposal = 900048\n",
    "run = 95\n",
    "nrjs = {95:704.5}\n",
    "\n",
    "data = loadrun(run, proposal, strange, topic)\n",
    "print(data)"
   ]
  }
 ],
 "metadata": {
  "kernelspec": {
   "display_name": "Python [conda env:5.0]",
   "language": "python",
   "name": "conda-env-5.0-py"
  },
  "language_info": {
   "codemirror_mode": {
    "name": "ipython",
    "version": 3
   },
   "file_extension": ".py",
   "mimetype": "text/x-python",
   "name": "python",
   "nbconvert_exporter": "python",
   "pygments_lexer": "ipython3",
   "version": "3.6.4"
  }
 },
 "nbformat": 4,
 "nbformat_minor": 2
}
