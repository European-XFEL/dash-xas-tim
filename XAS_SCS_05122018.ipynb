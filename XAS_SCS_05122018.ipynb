{
 "cells": [
  {
   "cell_type": "markdown",
   "metadata": {
    "collapsed": true
   },
   "source": [
    "# X-ray Absorption Spectroscopy (XAS) Experiment at SCS\n",
    "\n",
    "Author: Jun Zhu jun.zhu@xfel.eu\n",
    "\n",
    "Created on Nov. 12, 2018\n",
    "\n",
    "Copyright (C) European X-Ray Free-Electron Laser Facility GmbH.\n",
    "\n",
    "All rights reserved."
   ]
  },
  {
   "cell_type": "markdown",
   "metadata": {},
   "source": [
    "## Introduction\n",
    "\n",
    "<table><tr>\n",
    "    <td>\n",
    "        <img src='misc/mono.png' width=\"600 px\">\n",
    "        <figcaption>Higley et al., Rev. Sci. Instrum.  87, 033110 (2016)</figcaption>\n",
    "    </td>\n",
    "    <td>\n",
    "        <img src='misc/illustration.png' width=\"920 px\">\n",
    "    </td>\n",
    "    <td>\n",
    "        <img src='misc/expected_data.png' width=\"800 px\">\n",
    "        <figcaption>Higley et al., submitted</figcaption></td>\n",
    "</tr></table>"
   ]
  },
  {
   "cell_type": "markdown",
   "metadata": {},
   "source": [
    "## Data Analysis"
   ]
  },
  {
   "cell_type": "code",
   "execution_count": null,
   "metadata": {},
   "outputs": [],
   "source": [
    "import os\n",
    "import numpy as np\n",
    "import pandas as pd\n",
    "%matplotlib inline\n",
    "import matplotlib.pyplot as plt\n",
    "try:\n",
    "    # for interactive plot\n",
    "    from plotly.offline import init_notebook_mode, iplot\n",
    "    import plotly.graph_objs as go\n",
    "    init_notebook_mode(connected=True)\n",
    "    \n",
    "    USE_PLOTLY = True\n",
    "except ImportError:\n",
    "    USE_PLOTLY = False\n",
    "\n",
    "from xas_processor import XasDigitizer, compute_absorption\n",
    "\n",
    "%load_ext autoreload\n",
    "%autoreload 2"
   ]
  },
  {
   "cell_type": "code",
   "execution_count": null,
   "metadata": {
    "scrolled": true
   },
   "outputs": [],
   "source": [
    "!ls /gpfs/exfel/exp/SCS/201831/p900048/raw"
   ]
  },
  {
   "cell_type": "markdown",
   "metadata": {},
   "source": [
    "```py\n",
    "class XasDigitizer(XasProcessor):\n",
    "     def __init__(self, run_folder, channels=('D', 'B', 'C', 'A'), \n",
    "                  pulse_separation=880e-9, interleaved_mode=False, pulse_id_min=0, n_pulses=1):\n",
    "         \"\"\"Initialization.\n",
    "         \n",
    "         :param str run_folder: full path of the run folder.\n",
    "         :param tuple channels: names of AdqDigitizer channels which connects to MCP1 to MCP4.\n",
    "         :param float pulse_separation: pulse separation in a train, in s.\n",
    "         :param bool interleaved_mode: the resolution is improved by a factor of two \n",
    "             in the interleaved mode. Default = False.\n",
    "         :param int pulse_id_min: start of the pulse ID.\n",
    "         :param int n_pulses: number of pulses in a train.\n",
    "         \"\"\"\n",
    "```"
   ]
  },
  {
   "cell_type": "code",
   "execution_count": null,
   "metadata": {
    "scrolled": false
   },
   "outputs": [],
   "source": [
    "run_folder = \"/gpfs/exfel/exp/SCS/201831/p900048/raw/r0315\"\n",
    "\n",
    "# instantiate an `XasDigitizer` object\n",
    "xas = XasDigitizer(run_folder, pulse_id_min=30, n_pulses=10)\n",
    "xas.info()"
   ]
  },
  {
   "cell_type": "markdown",
   "metadata": {},
   "source": [
    "## Sanity check"
   ]
  },
  {
   "cell_type": "markdown",
   "metadata": {},
   "source": [
    "```py\n",
    "def plot_xgm_run(self, *, figsize=(8, 5.6)):\n",
    "    \"\"\"Plot the train resolved data from XGM.\n",
    "    \n",
    "    :param tuple figsize: figure size.\n",
    "    \"\"\"\n",
    "```"
   ]
  },
  {
   "cell_type": "code",
   "execution_count": null,
   "metadata": {},
   "outputs": [],
   "source": [
    "fig, (ax11, ax12, ax2) = xas.plot_xgm_run()"
   ]
  },
  {
   "cell_type": "markdown",
   "metadata": {},
   "source": [
    "why negative pulse energies?\n",
    "\n",
    "```py\n",
    "def plot_xgm_train(self, *, index=0, train_id=None, figsize=(8, 5.6)):\n",
    "    \"\"\"Plot xgm measurement in a given train.\n",
    "\n",
    "    :param int index: train index. Ignored if train_id is given.\n",
    "    :param int train_id: train ID.\n",
    "    :param tuple figsize: figure size.\n",
    "    \"\"\"\n",
    "```"
   ]
  },
  {
   "cell_type": "code",
   "execution_count": null,
   "metadata": {
    "scrolled": false
   },
   "outputs": [],
   "source": [
    "fig, ax = xas.plot_xgm_train(index=10)"
   ]
  },
  {
   "cell_type": "markdown",
   "metadata": {},
   "source": [
    "```py\n",
    "def plot_digitizer_train(self, *, index=0, train_id=None, figsize=(8, 11.2),\n",
    "                         x_min=None, x_max=None):\n",
    "    \"\"\"Plot digitizer signals in a given train.\n",
    "\n",
    "    :param int index: train index. Ignored if train_id is given.\n",
    "    :param int train_id: train ID.\n",
    "    :param tuple figsize: figure size.\n",
    "    :param int x_min: minimum sample ID.\n",
    "    :param int x_max: maximum sample ID.\n",
    "    \"\"\"\n",
    "```"
   ]
  },
  {
   "cell_type": "code",
   "execution_count": null,
   "metadata": {},
   "outputs": [],
   "source": [
    "fig, axes = xas.plot_digitizer_train(index=200, x_min=12000, x_max=38000)"
   ]
  },
  {
   "cell_type": "markdown",
   "metadata": {},
   "source": [
    "## Correlation between I0 and I1"
   ]
  },
  {
   "cell_type": "markdown",
   "metadata": {},
   "source": [
    "```py\n",
    "def process(self, config=None):\n",
    "    \"\"\"Process the run data.\n",
    "\n",
    "    :param dict config: configuration for integrating of digitizer signal.\n",
    "    \"\"\"\n",
    "```"
   ]
  },
  {
   "cell_type": "code",
   "execution_count": null,
   "metadata": {},
   "outputs": [],
   "source": [
    "import time\n",
    "\n",
    "t0 = time.time()\n",
    "\n",
    "config = {\"sample_start\": 14590, \"peak_width\": 30, \"background_end\": 14580, \"background_width\": 500}\n",
    "xas.process(config)  # processing will take about 60 seconds for a 5-minute run\n",
    "\n",
    "print(\"Processing time: {:.1f} seconds\".format(time.time() - t0))"
   ]
  },
  {
   "cell_type": "markdown",
   "metadata": {},
   "source": [
    "```py\n",
    " def get_dataframe(self):\n",
    "     \"\"\"Get the pulse-resolved data in pandas.DataFrame.\n",
    "\n",
    "     :return pandas.DataFrame: pulse resolved data in pandas.DataFrame.\n",
    "     \"\"\"\n",
    "```"
   ]
  },
  {
   "cell_type": "code",
   "execution_count": null,
   "metadata": {},
   "outputs": [],
   "source": [
    "xas.get_dataframe().head()"
   ]
  },
  {
   "cell_type": "code",
   "execution_count": null,
   "metadata": {},
   "outputs": [],
   "source": [
    "# get absorption data as pandas.DataFrame\n",
    "xas.absorption"
   ]
  },
  {
   "cell_type": "markdown",
   "metadata": {},
   "source": [
    "```py\n",
    "def plot_correlation(self, channel=\"all\", *, figsize=(8, 6), marker_size=6, alpha=0.05, n_bins=20):\n",
    "    \"\"\"Generate correlation plots.\n",
    "\n",
    "    :param str channel: MCP channel name, e.g. mcp1, for visualizing\n",
    "        a single channel with four plots, or 'all' for visualizing all \n",
    "        the channels with one plot each. Case insensitive.\n",
    "    :param tuple figsize: figure size.\n",
    "    :param int marker_size: marker size for the scatter plots.\n",
    "    :param float alpha: transparency for the scatter plots.\n",
    "    :param int n_bins: number of bins for the histogram plots.\n",
    "    \"\"\"\n",
    "```"
   ]
  },
  {
   "cell_type": "code",
   "execution_count": null,
   "metadata": {},
   "outputs": [],
   "source": [
    "fig, ax = xas.plot_correlation()"
   ]
  },
  {
   "cell_type": "code",
   "execution_count": null,
   "metadata": {},
   "outputs": [],
   "source": [
    "fig, ax = xas.plot_correlation('mcp1')"
   ]
  },
  {
   "cell_type": "code",
   "execution_count": null,
   "metadata": {},
   "outputs": [],
   "source": [
    "fig, ax = xas.plot_correlation('mcp2')"
   ]
  },
  {
   "cell_type": "code",
   "execution_count": null,
   "metadata": {},
   "outputs": [],
   "source": [
    "fig, ax = xas.plot_correlation('mcp3')"
   ]
  },
  {
   "cell_type": "code",
   "execution_count": null,
   "metadata": {},
   "outputs": [],
   "source": [
    "fig, ax = xas.plot_correlation('mcp4')"
   ]
  },
  {
   "cell_type": "markdown",
   "metadata": {},
   "source": [
    "## Absorption spectrum"
   ]
  },
  {
   "cell_type": "markdown",
   "metadata": {},
   "source": [
    "```py\n",
    "def compute_spectrum(self, n_bins=20):\n",
    "    \"\"\"Calculate spectrum.\n",
    "\n",
    "    :param int n_bins: number of energy bins.\n",
    "\n",
    "    :return: spectrum data in pandas.DataFrame.\n",
    "    \"\"\"\n",
    "```"
   ]
  },
  {
   "cell_type": "code",
   "execution_count": null,
   "metadata": {
    "collapsed": true
   },
   "outputs": [],
   "source": [
    "spectrum = xas.compute_spectrum()\n",
    "\n",
    "spectrum"
   ]
  }
 ],
 "metadata": {
  "kernelspec": {
   "display_name": "Python [conda env:5.0]",
   "language": "python",
   "name": "conda-env-5.0-py"
  },
  "language_info": {
   "codemirror_mode": {
    "name": "ipython",
    "version": 3
   },
   "file_extension": ".py",
   "mimetype": "text/x-python",
   "name": "python",
   "nbconvert_exporter": "python",
   "pygments_lexer": "ipython3",
   "version": "3.6.4"
  }
 },
 "nbformat": 4,
 "nbformat_minor": 2
}
