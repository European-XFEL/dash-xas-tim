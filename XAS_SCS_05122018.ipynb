{
 "cells": [
  {
   "cell_type": "markdown",
   "metadata": {
    "collapsed": true
   },
   "source": [
    "# X-ray Absorption Spectroscopy (XAS) Experiment at SCS\n",
    "\n",
    "Author: Jun Zhu jun.zhu@xfel.eu\n",
    "\n",
    "Created on Nov. 12, 2018\n",
    "\n",
    "Copyright (C) European X-Ray Free-Electron Laser Facility GmbH.\n",
    "\n",
    "All rights reserved."
   ]
  },
  {
   "cell_type": "markdown",
   "metadata": {},
   "source": [
    "## Introduction\n",
    "\n",
    "<table><tr>\n",
    "    <td>\n",
    "        <img src='misc/mono.png' width=\"600 px\">\n",
    "        <figcaption>Higley et al., Rev. Sci. Instrum.  87, 033110 (2016)</figcaption>\n",
    "    </td>\n",
    "    <td>\n",
    "        <img src='misc/illustration.png' width=\"920 px\">\n",
    "    </td>\n",
    "    <td>\n",
    "        <img src='misc/expected_data.png' width=\"800 px\">\n",
    "        <figcaption>Higley et al., submitted</figcaption></td>\n",
    "</tr></table>"
   ]
  },
  {
   "cell_type": "markdown",
   "metadata": {},
   "source": [
    "## Data Analysis"
   ]
  },
  {
   "cell_type": "code",
   "execution_count": null,
   "metadata": {
    "collapsed": true
   },
   "outputs": [],
   "source": [
    "import os\n",
    "import numpy as np\n",
    "import pandas as pd\n",
    "import matplotlib.pyplot as plt\n",
    "%matplotlib inline\n",
    "\n",
    "from karabo_data import RunDirectory"
   ]
  },
  {
   "cell_type": "code",
   "execution_count": null,
   "metadata": {
    "collapsed": true
   },
   "outputs": [],
   "source": [
    "plt.rcParams['axes.labelsize'] = 16\n",
    "plt.rcParams['axes.titlesize'] = 14\n",
    "plt.rcParams['xtick.labelsize'] = 14\n",
    "plt.rcParams['ytick.labelsize'] = 14\n",
    "plt.rcParams['legend.fontsize'] = 14\n",
    "plt.rcParams['figure.figsize'] = (8.0, 6.0)"
   ]
  },
  {
   "cell_type": "code",
   "execution_count": null,
   "metadata": {
    "scrolled": true
   },
   "outputs": [],
   "source": [
    "!ls /gpfs/exfel/exp/SCS/201831/p900048/raw"
   ]
  },
  {
   "cell_type": "code",
   "execution_count": null,
   "metadata": {},
   "outputs": [],
   "source": [
    "run_folder = \"/gpfs/exfel/exp/SCS/201831/p900048/raw/r0150\"\n",
    "run = RunDirectory(run_folder)\n",
    "run.info()"
   ]
  },
  {
   "cell_type": "markdown",
   "metadata": {},
   "source": [
    "## Sanity check"
   ]
  },
  {
   "cell_type": "markdown",
   "metadata": {},
   "source": [
    "*check whether the pulse energy in the pipeline data is calibrated*"
   ]
  },
  {
   "cell_type": "code",
   "execution_count": null,
   "metadata": {
    "collapsed": true
   },
   "outputs": [],
   "source": [
    "xgm_device = 'SCS_BLU_XGM/XGM/DOOCS'\n",
    "# xgm_device = 'SA3_XTD10_XGM/XGM/DOOCS'\n",
    "\n",
    "adc_device = 'SCS_UTC1_MCP/ADC/1'\n",
    "adc_channels = [\"{}:channel_{}.output\".format(adc_device, ch) for ch in [9, 8, 7, 6]]\n",
    "adc_channel_names = [\"MCP1\", \"MCP2\", \"MCP3\", \"MCP4\"]"
   ]
  },
  {
   "cell_type": "code",
   "execution_count": null,
   "metadata": {
    "collapsed": true
   },
   "outputs": [],
   "source": [
    "idx = -1\n",
    "tid, data = run.train_from_index(idx)"
   ]
  },
  {
   "cell_type": "code",
   "execution_count": null,
   "metadata": {},
   "outputs": [],
   "source": [
    "xgm_run = run.get_dataframe(fields=[(xgm_device, '*value')])\n",
    "xgm_run.rename(columns=lambda x: x.split('/')[-1], inplace=True)\n",
    "\n",
    "# pulse_energy_train_resolved = xgm_run['pulseEnergy.photonFlux'].iloc[idx]\n",
    "# pulse_energy_pulse_resolved = data[xgm_device + ':output']['data.intensityTD'][\n",
    "#     0:int(xgm_run['pulseEnergy.nummberOfBrunches'].iloc[idx])].mean()\n",
    "\n",
    "# print(\"Train resolved pulse energy is: {:.4f} micro J\".format(pulse_energy_train_resolved))\n",
    "# print(\"Pulse resolved pulse energy is: {:.4f} micro J\".format(pulse_energy_pulse_resolved))\n",
    "# if abs(pulse_energy_train_resolved - pulse_energy_pulse_resolved) > 0.01*pulse_energy_train_resolved:\n",
    "#     print(\"Warning: pulse resolved pulse energy is not calibrated!\")"
   ]
  },
  {
   "cell_type": "markdown",
   "metadata": {},
   "source": [
    "***check the numbers of pulses and train resolved pulse energies throughtout the run***"
   ]
  },
  {
   "cell_type": "code",
   "execution_count": null,
   "metadata": {},
   "outputs": [],
   "source": [
    "_, ax = plt.subplots(figsize=(12, 4.5))\n",
    "ax2 = ax.twinx()\n",
    "\n",
    "ln1 = ax.plot(xgm_run['pulseEnergy.nummberOfBrunches'], label=\"number of pulses\", c='g')\n",
    "ln2 = ax2.plot(xgm_run['pulseEnergy.photonFlux'], label=r\"pulse energy ($\\mu$J)\")\n",
    "\n",
    "lns = ln1 + ln2\n",
    "lables = [l.get_label() for l in lns]\n",
    "ax.legend(lns, lables, loc=0)\n",
    "ax.set_xlabel(\"Train ID\")\n",
    "ax.set_ylabel(\"Number of pulses\")\n",
    "ax2.set_ylabel(r\"Pulse energy ($\\mu$J)\")\n",
    "\n",
    "plt.tight_layout()"
   ]
  },
  {
   "cell_type": "markdown",
   "metadata": {},
   "source": [
    "***check that the interested FastAdc channels all have data***"
   ]
  },
  {
   "cell_type": "code",
   "execution_count": null,
   "metadata": {},
   "outputs": [],
   "source": [
    "import re\n",
    "\n",
    "\n",
    "working_adc_channels = []\n",
    "for key, value in sorted(data.items()):\n",
    "    if re.search(re.compile(r\"{}.*output\".format(adc_device)), key) and 'data.rawData' in value:\n",
    "        working_adc_channels.append(key)\n",
    "        \n",
    "for ch in adc_channels:\n",
    "    if ch not in working_adc_channels:\n",
    "        raise ValueError(\"{} is not a working FastAdc channel!\".format(ch))"
   ]
  },
  {
   "cell_type": "code",
   "execution_count": null,
   "metadata": {},
   "outputs": [],
   "source": [
    "fig, axes = plt.subplots(len(adc_channels), 1, figsize=(14, 6*len(adc_channels)))\n",
    "\n",
    "for ax, channel in zip(axes, adc_channels):\n",
    "    ax.plot(data[adc_channels[2]]['data.rawData'] - data[adc_channels[2]]['data.baseline'], '.-')\n",
    "    ax.set_title(channel)\n",
    "    ax.set_ylabel(\"intensity (arb.)\")\n",
    "\n",
    "ax.set_xlabel(\"samples\")\n",
    "ax.set_xlim(1500, 1700)\n",
    "\n",
    "print(\"Trigger time: {}\".format(data[adc_device]['triggerTime.value']))\n",
    "print(\"Delay: {}\".format(data[adc_device]['delay.value']))"
   ]
  },
  {
   "cell_type": "markdown",
   "metadata": {},
   "source": [
    "## Data analysis"
   ]
  },
  {
   "cell_type": "code",
   "execution_count": null,
   "metadata": {},
   "outputs": [],
   "source": [
    "def integrate_adc_channel(run, ch, threshold=-200):\n",
    "    \"\"\"Integration along a FastAdc channel.\n",
    "    \n",
    "    :param DataCollection run: run data. \n",
    "    :param str ch: output channel name.\n",
    "    :param int threshold: data above this threshold will be ignored.\n",
    "    \n",
    "    :return\n",
    "    \"\"\"\n",
    "    background = run.get_array(ch, 'data.baseline')\n",
    "    raw_data = run.get_array(ch, 'data.rawData') - background\n",
    "\n",
    "    return np.trapz(raw_data.where(raw_data < threshold, 0), axis=1)\n",
    "\n",
    "\n",
    "def process_run(run_directory, xgm_id, adc_id, adc_channels):\n",
    "    \"\"\"Process the run data.\n",
    "    \n",
    "    :param DataCollection run: run data. \n",
    "    :param str xgm_id: XgmDoocs device ID.\n",
    "    :param str adc_id: FastAdc device ID.\n",
    "    :param list adc_channels: names of FastAdc channels which received data.\n",
    "    \n",
    "    :return\n",
    "    \"\"\"    \n",
    "    xgm = run.get_array(xgm_id + \":output\", 'data.intensityTD').max(axis=1)\n",
    "    \n",
    "    mcps = []\n",
    "    for ch in adc_channels:\n",
    "        mcps.append(integrate_adc_channel(run, ch))\n",
    "        \n",
    "    return xgm, mcps\n",
    "\n",
    "\n",
    "ret = process_run(run_folder, xgm_device, adc_device, adc_channels)"
   ]
  },
  {
   "cell_type": "markdown",
   "metadata": {},
   "source": [
    "#### Correlation between I0 and I1"
   ]
  },
  {
   "cell_type": "code",
   "execution_count": null,
   "metadata": {},
   "outputs": [],
   "source": [
    "fig, axes = plt.subplots(2, 2, figsize=(12, 8))\n",
    "\n",
    "for i, ax in enumerate(np.ravel(axes)):\n",
    "    ax.plot(ret[0], ret[1][i], '.', alpha=0.2)\n",
    "    ax.set_xlabel(\"XGM pulse energy ($\\mu$J)\")\n",
    "    ax.set_ylabel(\"{} integration (arb.)\".format(adc_channel_names[i]))\n",
    "\n",
    "fig.suptitle(run_folder, fontsize=16)\n",
    "\n",
    "plt.tight_layout(rect=[0, 0.03, 1, 0.95])"
   ]
  },
  {
   "cell_type": "code",
   "execution_count": null,
   "metadata": {
    "collapsed": true
   },
   "outputs": [],
   "source": []
  }
 ],
 "metadata": {
  "kernelspec": {
   "display_name": "Python [conda env:5.0]",
   "language": "python",
   "name": "conda-env-5.0-py"
  },
  "language_info": {
   "codemirror_mode": {
    "name": "ipython",
    "version": 3
   },
   "file_extension": ".py",
   "mimetype": "text/x-python",
   "name": "python",
   "nbconvert_exporter": "python",
   "pygments_lexer": "ipython3",
   "version": "3.6.4"
  }
 },
 "nbformat": 4,
 "nbformat_minor": 2
}
